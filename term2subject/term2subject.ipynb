{
 "cells": [
  {
   "cell_type": "code",
   "execution_count": 4,
   "metadata": {},
   "outputs": [],
   "source": [
    "import pandas as pd\n",
    "from pandas import json_normalize \n",
    "import requests\n",
    "from wikidata2df import wikidata2df\n",
    "\n",
    "def prepare_url_for_search(term):\n",
    "    term_for_url = term.replace(\" \",\"%20\")\n",
    "    term_for_url = \"%22\" +term_for_url + \"%22\"\n",
    "\n",
    "    url = f\"https://www.wikidata.org/w/api.php?action=query&list=search&srsearch={term_for_url}&srlimit=500&srprop=size&formatversion=2&format=json\"\n",
    "    return(url)\n",
    "\n",
    "def pull_related_ids(url):\n",
    "    r = requests.get(url)\n",
    "    df = json_normalize(r.json()[\"query\"][\"search\"])\n",
    "\n",
    "    ids = [\"wd:\"+a for a in df[\"title\"]]\n",
    "    return(ids)\n",
    "    \n",
    "def filter_for_instances_of_article(ids):\n",
    "\n",
    "    items = \"{\"\n",
    "    for i in ids:\n",
    "        items = items + \" \" + i\n",
    "    items = items + \" }\"\n",
    "\n",
    "\n",
    "    articles = \"\"\"\n",
    "    SELECT ?item ?itemLabel\n",
    "    WHERE\n",
    "    {\n",
    "    VALUES ?item \"\"\" + items + \"\"\".\n",
    "    ?item wdt:P31 wd:Q13442814.\n",
    "    SERVICE wikibase:label { bd:serviceParam wikibase:language \"[AUTO_LANGUAGE],en\". }\n",
    "    }\n",
    "    \"\"\"\n",
    "\n",
    "    articles_dataframe = wikidata2df(articles)\n",
    "    return(articles_dataframe)\n",
    "\n",
    "\n",
    "def print_qs_to_file(articles_dataframe, term, term_id):\n",
    "    with open(term + \".qs\", \"w+\") as f:\n",
    "        for i, row in articles_dataframe.iterrows():\n",
    "            s = row[\"item\"]\n",
    "            p = \"|P921|\"\n",
    "            o = term_id\n",
    "            r = \"|S887|\"\n",
    "            ro = \"Q69652283\"\n",
    "            f.write(s + p + o + r + ro + \"\\n\")\n",
    "\n",
    "\n"
   ]
  }
 ],
 "metadata": {
  "kernelspec": {
   "display_name": "Python 3.6.9 64-bit",
   "language": "python",
   "name": "python36964bitd70dcd0ebb2344189de0a1765c180dbd"
  },
  "language_info": {
   "codemirror_mode": {
    "name": "ipython",
    "version": 3
   },
   "file_extension": ".py",
   "mimetype": "text/x-python",
   "name": "python",
   "nbconvert_exporter": "python",
   "pygments_lexer": "ipython3",
   "version": "3.6.9"
  }
 },
 "nbformat": 4,
 "nbformat_minor": 4
}